{
 "cells": [
  {
   "cell_type": "code",
   "execution_count": 1,
   "metadata": {},
   "outputs": [],
   "source": [
    "%load_ext autoreload\n",
    "%autoreload 2\n",
    "\n",
    "import sys\n",
    "sys.path.append('../src')\n",
    "\n",
    "from mtb_data_set import MtbDataSet"
   ]
  },
  {
   "cell_type": "code",
   "execution_count": 43,
   "metadata": {
    "scrolled": false
   },
   "outputs": [
    {
     "name": "stdout",
     "output_type": "stream",
     "text": [
      "Creating dataset delete_me_dataset.csv\n",
      "Converting Garmin .fit file ../data/warngaus1_3_m_1.fit\n",
      "fetching from:  https://overpass-api.de/api/map?bbox=11.730563845485449,47.82983025535941,11.745809856802225,47.835843516513705\n",
      "fetching from:  https://www.trailforks.com/api/1/trails?scope=track&filter=bbox::47.835843516513705,11.730563845485449,47.82983025535941,11.745809856802225&app_secret=374340a0656feca4&app_id=45\n"
     ]
    },
    {
     "data": {
      "application/vnd.jupyter.widget-view+json": {
       "model_id": "f5b5e72e53f24426977bedbdfc285adb",
       "version_major": 2,
       "version_minor": 0
      },
      "text/plain": [
       "HBox(children=(FloatProgress(value=0.0, max=7075.0), HTML(value='')))"
      ]
     },
     "metadata": {},
     "output_type": "display_data"
    },
    {
     "name": "stdout",
     "output_type": "stream",
     "text": [
      "\n",
      "Converting Garmin .fit file ../data/warngaus1_2_m_1.fit\n",
      "fetching from:  https://overpass-api.de/api/map?bbox=11.73397553153336,47.82989680767059,11.74581446684897,47.834892673417926\n",
      "fetching from:  https://www.trailforks.com/api/1/trails?scope=track&filter=bbox::47.834892673417926,11.73397553153336,47.82989680767059,11.74581446684897&app_secret=374340a0656feca4&app_id=45\n"
     ]
    },
    {
     "data": {
      "application/vnd.jupyter.widget-view+json": {
       "model_id": "0f9319d2abcc4ae69561ce243300bfdd",
       "version_major": 2,
       "version_minor": 0
      },
      "text/plain": [
       "HBox(children=(FloatProgress(value=0.0, max=5575.0), HTML(value='')))"
      ]
     },
     "metadata": {},
     "output_type": "display_data"
    },
    {
     "name": "stdout",
     "output_type": "stream",
     "text": [
      "\n",
      "Converting Garmin .fit file ../data/warngaus1_1_m_1.fit\n",
      "fetching from:  https://overpass-api.de/api/map?bbox=11.734033115208149,47.829897394403815,11.745771551504731,47.8349335771054\n",
      "fetching from:  https://www.trailforks.com/api/1/trails?scope=track&filter=bbox::47.8349335771054,11.734033115208149,47.829897394403815,11.745771551504731&app_secret=374340a0656feca4&app_id=45\n"
     ]
    },
    {
     "data": {
      "application/vnd.jupyter.widget-view+json": {
       "model_id": "25b9713696a64f7aae12a148a252f4ff",
       "version_major": 2,
       "version_minor": 0
      },
      "text/plain": [
       "HBox(children=(FloatProgress(value=0.0, max=5850.0), HTML(value='')))"
      ]
     },
     "metadata": {},
     "output_type": "display_data"
    },
    {
     "name": "stdout",
     "output_type": "stream",
     "text": [
      "\n",
      "Converting Garmin .fit file ../data/dandlberg_m_1.fit\n",
      "fetching from:  https://overpass-api.de/api/map?bbox=12.161104828119278,47.763745822012424,12.170942164957523,47.76794632896781\n",
      "fetching from:  https://www.trailforks.com/api/1/trails?scope=track&filter=bbox::47.76794632896781,12.161104828119278,47.763745822012424,12.170942164957523&app_secret=374340a0656feca4&app_id=45\n"
     ]
    },
    {
     "data": {
      "application/vnd.jupyter.widget-view+json": {
       "model_id": "660c6fc6ae9e40fdb189c7479f7dbc79",
       "version_major": 2,
       "version_minor": 0
      },
      "text/plain": [
       "HBox(children=(FloatProgress(value=0.0, max=8300.0), HTML(value='')))"
      ]
     },
     "metadata": {},
     "output_type": "display_data"
    },
    {
     "name": "stdout",
     "output_type": "stream",
     "text": [
      "\n",
      "Converting Garmin .fit file ../data/neureuth_m_1.fit\n",
      "fetching from:  https://overpass-api.de/api/map?bbox=11.744837975129485,47.718190932646394,11.764737451449037,47.73319663479924\n",
      "fetching from:  https://www.trailforks.com/api/1/trails?scope=track&filter=bbox::47.73319663479924,11.744837975129485,47.718190932646394,11.764737451449037&app_secret=374340a0656feca4&app_id=45\n"
     ]
    },
    {
     "data": {
      "application/vnd.jupyter.widget-view+json": {
       "model_id": "3883f782a34e4ff4b93d0f655a5dc4ee",
       "version_major": 2,
       "version_minor": 0
      },
      "text/plain": [
       "HBox(children=(FloatProgress(value=0.0, max=31400.0), HTML(value='')))"
      ]
     },
     "metadata": {},
     "output_type": "display_data"
    },
    {
     "name": "stdout",
     "output_type": "stream",
     "text": [
      "\n",
      "Converting Garmin .fit file ../data/warngaus2_1_m_1.fit\n",
      "fetching from:  https://overpass-api.de/api/map?bbox=11.733154440298676,47.8295046184212,11.745851766318083,47.83017181791365\n",
      "fetching from:  https://www.trailforks.com/api/1/trails?scope=track&filter=bbox::47.83017181791365,11.733154440298676,47.8295046184212,11.745851766318083&app_secret=374340a0656feca4&app_id=45\n"
     ]
    },
    {
     "data": {
      "application/vnd.jupyter.widget-view+json": {
       "model_id": "f24de6480e834634bd4474fc583b2ee1",
       "version_major": 2,
       "version_minor": 0
      },
      "text/plain": [
       "HBox(children=(FloatProgress(value=0.0, max=4300.0), HTML(value='')))"
      ]
     },
     "metadata": {},
     "output_type": "display_data"
    },
    {
     "name": "stdout",
     "output_type": "stream",
     "text": [
      "\n",
      "Converting Garmin .fit file ../data/warngaus2_2_m_1.fit\n",
      "fetching from:  https://overpass-api.de/api/map?bbox=11.733346302062273,47.829453740268946,11.745895352214575,47.83019268885255\n",
      "fetching from:  https://www.trailforks.com/api/1/trails?scope=track&filter=bbox::47.83019268885255,11.733346302062273,47.829453740268946,11.745895352214575&app_secret=374340a0656feca4&app_id=45\n"
     ]
    },
    {
     "data": {
      "application/vnd.jupyter.widget-view+json": {
       "model_id": "02a6dca46cb944acb4103d70972454d1",
       "version_major": 2,
       "version_minor": 0
      },
      "text/plain": [
       "HBox(children=(FloatProgress(value=0.0, max=4250.0), HTML(value='')))"
      ]
     },
     "metadata": {},
     "output_type": "display_data"
    },
    {
     "name": "stdout",
     "output_type": "stream",
     "text": [
      "\n",
      "Dataset successfully created: data/delete_me_dataset.csv\n"
     ]
    }
   ],
   "source": [
    "mtb_data_set = MtbDataSet()\n",
    "mtb_data_set.create_data_set(None, 'delete_me_dataset.csv')"
   ]
  },
  {
   "cell_type": "code",
   "execution_count": null,
   "metadata": {},
   "outputs": [],
   "source": []
  }
 ],
 "metadata": {
  "kernelspec": {
   "display_name": "Python 3",
   "language": "python",
   "name": "python3"
  },
  "language_info": {
   "codemirror_mode": {
    "name": "ipython",
    "version": 3
   },
   "file_extension": ".py",
   "mimetype": "text/x-python",
   "name": "python",
   "nbconvert_exporter": "python",
   "pygments_lexer": "ipython3",
   "version": "3.8.5"
  }
 },
 "nbformat": 4,
 "nbformat_minor": 4
}
