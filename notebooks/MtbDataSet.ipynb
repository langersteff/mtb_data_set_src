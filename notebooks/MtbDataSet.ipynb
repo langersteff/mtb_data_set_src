{
 "cells": [
  {
   "cell_type": "code",
   "execution_count": 1,
   "metadata": {},
   "outputs": [],
   "source": [
    "%load_ext autoreload\n",
    "%autoreload 2\n",
    "\n",
    "import sys\n",
    "sys.path.append('../src')\n",
    "\n",
    "from mtb_data_set import MtbDataSet"
   ]
  },
  {
   "cell_type": "code",
   "execution_count": 29,
   "metadata": {
    "scrolled": true
   },
   "outputs": [
    {
     "name": "stdout",
     "output_type": "stream",
     "text": [
      "Creating dataset delete_me_dataset.csv\n",
      "Converting Garmin .fit file ../data/arosahoernli_m_1.fit\n",
      "fetching from:  https://overpass-api.de/api/map?bbox=9.620783245190978,46.76471290178597,9.65990100055933,46.772989025339484\n",
      "fetching from:  https://www.trailforks.com/api/1/trails?scope=track&filter=bbox::46.772989025339484,9.620783245190978,46.76471290178597,9.65990100055933&app_secret=374340a0656feca4&app_id=45\n",
      "Mapping Meta Data from Web APIs...\n"
     ]
    },
    {
     "data": {
      "application/vnd.jupyter.widget-view+json": {
       "model_id": "401db044cec64b289395ce2ea9537eb6",
       "version_major": 2,
       "version_minor": 0
      },
      "text/plain": [
       "HBox(children=(FloatProgress(value=0.0, max=42125.0), HTML(value='')))"
      ]
     },
     "metadata": {},
     "output_type": "display_data"
    },
    {
     "name": "stdout",
     "output_type": "stream",
     "text": [
      "\n",
      "No Gopro File found for:  ../data/arosahoernli_m_1\n",
      "Converting Garmin .fit file ../data/davospanorama_m_3.fit\n",
      "fetching from:  https://overpass-api.de/api/map?bbox=9.795786403119564,46.78936751559377,9.86876092851162,46.861525643616915\n",
      "fetching from:  https://www.trailforks.com/api/1/trails?scope=track&filter=bbox::46.861525643616915,9.795786403119564,46.78936751559377,9.86876092851162&app_secret=374340a0656feca4&app_id=45\n",
      "Mapping Meta Data from Web APIs...\n"
     ]
    },
    {
     "data": {
      "application/vnd.jupyter.widget-view+json": {
       "model_id": "bc3839d8b7994f1491308fe9cc5c470c",
       "version_major": 2,
       "version_minor": 0
      },
      "text/plain": [
       "HBox(children=(FloatProgress(value=0.0, max=179050.0), HTML(value='')))"
      ]
     },
     "metadata": {},
     "output_type": "display_data"
    },
    {
     "name": "stdout",
     "output_type": "stream",
     "text": [
      "\n",
      "No Gopro File found for:  ../data/davospanorama_m_3\n",
      "Dataset successfully created: data/delete_me_dataset.csv\n"
     ]
    }
   ],
   "source": [
    "mtb_data_set = MtbDataSet()\n",
    "mtb_data_set.create_data_set(['arosahoernli_m_1', 'davospanorama_m_3'], 'delete_me_dataset.csv')"
   ]
  },
  {
   "cell_type": "code",
   "execution_count": 41,
   "metadata": {},
   "outputs": [],
   "source": [
    "import pandas as pd\n",
    "\n",
    "mtb_df = pd.read_csv(\"../data/mtb_dataset_20200924.csv\")"
   ]
  },
  {
   "cell_type": "code",
   "execution_count": 42,
   "metadata": {},
   "outputs": [
    {
     "data": {
      "text/html": [
       "<div>\n",
       "<style scoped>\n",
       "    .dataframe tbody tr th:only-of-type {\n",
       "        vertical-align: middle;\n",
       "    }\n",
       "\n",
       "    .dataframe tbody tr th {\n",
       "        vertical-align: top;\n",
       "    }\n",
       "\n",
       "    .dataframe thead th {\n",
       "        text-align: right;\n",
       "    }\n",
       "</style>\n",
       "<table border=\"1\" class=\"dataframe\">\n",
       "  <thead>\n",
       "    <tr style=\"text-align: right;\">\n",
       "      <th></th>\n",
       "      <th>input_filename</th>\n",
       "      <th>rider_id</th>\n",
       "      <th>trail_name</th>\n",
       "      <th>timestamp</th>\n",
       "      <th>distance</th>\n",
       "      <th>SensorSpeed</th>\n",
       "      <th>heart_rate</th>\n",
       "      <th>altitude</th>\n",
       "      <th>SensorHeading</th>\n",
       "      <th>SensorAccelerationX_HD</th>\n",
       "      <th>...</th>\n",
       "      <th>trailforks_season</th>\n",
       "      <th>trailforks_condition</th>\n",
       "      <th>trailforks_difficulty_votes</th>\n",
       "      <th>trailforks_difficulty_user_avg</th>\n",
       "      <th>trailforks_family_friendly</th>\n",
       "      <th>trailforks_amtb-rating</th>\n",
       "      <th>trailforks_activitytypes</th>\n",
       "      <th>gopro_video_path</th>\n",
       "      <th>gopro_image_path</th>\n",
       "      <th>video_position</th>\n",
       "    </tr>\n",
       "  </thead>\n",
       "  <tbody>\n",
       "    <tr>\n",
       "      <th>0</th>\n",
       "      <td>arosahoernli_w_4</td>\n",
       "      <td>4</td>\n",
       "      <td>arosahoernli</td>\n",
       "      <td>9.684186e+11</td>\n",
       "      <td>0.49</td>\n",
       "      <td>1.007715</td>\n",
       "      <td>93.0</td>\n",
       "      <td>0.0</td>\n",
       "      <td>0.620081</td>\n",
       "      <td>712.0</td>\n",
       "      <td>...</td>\n",
       "      <td>NaN</td>\n",
       "      <td>5</td>\n",
       "      <td>2</td>\n",
       "      <td>5</td>\n",
       "      <td>0</td>\n",
       "      <td>0</td>\n",
       "      <td>[1, 6, 5]</td>\n",
       "      <td>0.0</td>\n",
       "      <td>0.0</td>\n",
       "      <td>0.0</td>\n",
       "    </tr>\n",
       "    <tr>\n",
       "      <th>1</th>\n",
       "      <td>arosahoernli_w_4</td>\n",
       "      <td>4</td>\n",
       "      <td>arosahoernli</td>\n",
       "      <td>9.684186e+11</td>\n",
       "      <td>0.49</td>\n",
       "      <td>1.007715</td>\n",
       "      <td>93.0</td>\n",
       "      <td>0.0</td>\n",
       "      <td>0.620081</td>\n",
       "      <td>736.0</td>\n",
       "      <td>...</td>\n",
       "      <td>NaN</td>\n",
       "      <td>5</td>\n",
       "      <td>2</td>\n",
       "      <td>5</td>\n",
       "      <td>0</td>\n",
       "      <td>0</td>\n",
       "      <td>[1, 6, 5]</td>\n",
       "      <td>0.0</td>\n",
       "      <td>0.0</td>\n",
       "      <td>0.0</td>\n",
       "    </tr>\n",
       "    <tr>\n",
       "      <th>2</th>\n",
       "      <td>arosahoernli_w_4</td>\n",
       "      <td>4</td>\n",
       "      <td>arosahoernli</td>\n",
       "      <td>9.684186e+11</td>\n",
       "      <td>0.49</td>\n",
       "      <td>1.007715</td>\n",
       "      <td>93.0</td>\n",
       "      <td>0.0</td>\n",
       "      <td>0.620081</td>\n",
       "      <td>868.0</td>\n",
       "      <td>...</td>\n",
       "      <td>NaN</td>\n",
       "      <td>5</td>\n",
       "      <td>2</td>\n",
       "      <td>5</td>\n",
       "      <td>0</td>\n",
       "      <td>0</td>\n",
       "      <td>[1, 6, 5]</td>\n",
       "      <td>0.0</td>\n",
       "      <td>0.0</td>\n",
       "      <td>0.0</td>\n",
       "    </tr>\n",
       "    <tr>\n",
       "      <th>3</th>\n",
       "      <td>arosahoernli_w_4</td>\n",
       "      <td>4</td>\n",
       "      <td>arosahoernli</td>\n",
       "      <td>9.684186e+11</td>\n",
       "      <td>0.49</td>\n",
       "      <td>1.007715</td>\n",
       "      <td>93.0</td>\n",
       "      <td>0.0</td>\n",
       "      <td>0.620081</td>\n",
       "      <td>1060.0</td>\n",
       "      <td>...</td>\n",
       "      <td>NaN</td>\n",
       "      <td>5</td>\n",
       "      <td>2</td>\n",
       "      <td>5</td>\n",
       "      <td>0</td>\n",
       "      <td>0</td>\n",
       "      <td>[1, 6, 5]</td>\n",
       "      <td>0.0</td>\n",
       "      <td>0.0</td>\n",
       "      <td>0.0</td>\n",
       "    </tr>\n",
       "    <tr>\n",
       "      <th>4</th>\n",
       "      <td>arosahoernli_w_4</td>\n",
       "      <td>4</td>\n",
       "      <td>arosahoernli</td>\n",
       "      <td>9.684186e+11</td>\n",
       "      <td>0.49</td>\n",
       "      <td>1.007715</td>\n",
       "      <td>93.0</td>\n",
       "      <td>0.0</td>\n",
       "      <td>0.620081</td>\n",
       "      <td>1272.0</td>\n",
       "      <td>...</td>\n",
       "      <td>NaN</td>\n",
       "      <td>5</td>\n",
       "      <td>2</td>\n",
       "      <td>5</td>\n",
       "      <td>0</td>\n",
       "      <td>0</td>\n",
       "      <td>[1, 6, 5]</td>\n",
       "      <td>0.0</td>\n",
       "      <td>0.0</td>\n",
       "      <td>0.0</td>\n",
       "    </tr>\n",
       "  </tbody>\n",
       "</table>\n",
       "<p>5 rows × 44 columns</p>\n",
       "</div>"
      ],
      "text/plain": [
       "     input_filename  rider_id    trail_name     timestamp  distance  \\\n",
       "0  arosahoernli_w_4         4  arosahoernli  9.684186e+11      0.49   \n",
       "1  arosahoernli_w_4         4  arosahoernli  9.684186e+11      0.49   \n",
       "2  arosahoernli_w_4         4  arosahoernli  9.684186e+11      0.49   \n",
       "3  arosahoernli_w_4         4  arosahoernli  9.684186e+11      0.49   \n",
       "4  arosahoernli_w_4         4  arosahoernli  9.684186e+11      0.49   \n",
       "\n",
       "   SensorSpeed  heart_rate  altitude  SensorHeading  SensorAccelerationX_HD  \\\n",
       "0     1.007715        93.0       0.0       0.620081                   712.0   \n",
       "1     1.007715        93.0       0.0       0.620081                   736.0   \n",
       "2     1.007715        93.0       0.0       0.620081                   868.0   \n",
       "3     1.007715        93.0       0.0       0.620081                  1060.0   \n",
       "4     1.007715        93.0       0.0       0.620081                  1272.0   \n",
       "\n",
       "   ...  trailforks_season  trailforks_condition  trailforks_difficulty_votes  \\\n",
       "0  ...                NaN                     5                            2   \n",
       "1  ...                NaN                     5                            2   \n",
       "2  ...                NaN                     5                            2   \n",
       "3  ...                NaN                     5                            2   \n",
       "4  ...                NaN                     5                            2   \n",
       "\n",
       "   trailforks_difficulty_user_avg  trailforks_family_friendly  \\\n",
       "0                               5                           0   \n",
       "1                               5                           0   \n",
       "2                               5                           0   \n",
       "3                               5                           0   \n",
       "4                               5                           0   \n",
       "\n",
       "  trailforks_amtb-rating trailforks_activitytypes gopro_video_path  \\\n",
       "0                      0                [1, 6, 5]              0.0   \n",
       "1                      0                [1, 6, 5]              0.0   \n",
       "2                      0                [1, 6, 5]              0.0   \n",
       "3                      0                [1, 6, 5]              0.0   \n",
       "4                      0                [1, 6, 5]              0.0   \n",
       "\n",
       "   gopro_image_path video_position  \n",
       "0               0.0            0.0  \n",
       "1               0.0            0.0  \n",
       "2               0.0            0.0  \n",
       "3               0.0            0.0  \n",
       "4               0.0            0.0  \n",
       "\n",
       "[5 rows x 44 columns]"
      ]
     },
     "execution_count": 42,
     "metadata": {},
     "output_type": "execute_result"
    }
   ],
   "source": [
    "mtb_df.head()"
   ]
  },
  {
   "cell_type": "code",
   "execution_count": 73,
   "metadata": {},
   "outputs": [
    {
     "data": {
      "text/plain": [
       "<matplotlib.legend.Legend at 0x13c063850>"
      ]
     },
     "execution_count": 73,
     "metadata": {},
     "output_type": "execute_result"
    },
    {
     "data": {
      "image/png": "[encoded data removed]",
      "text/plain": [
       "<Figure size 1200x400 with 1 Axes>"
      ]
     },
     "metadata": {},
     "output_type": "display_data"
    }
   ],
   "source": [
    "import matplotlib.pyplot as plt\n",
    "from matplotlib.pyplot import figure\n",
    "import numpy as np\n",
    "\n",
    "figure(num=None, figsize=(15, 5), dpi=80, facecolor='w', edgecolor='k')\n",
    "\n",
    "filter = mtb_df[\"input_filename\"]==\"dandlberg_m_1\" #dandlberg_m_1 davospanorama_m_3\n",
    "hoernli = mtb_df.where(filter) \n",
    "hoernli.replace(0, np.nan, inplace=True)\n",
    "\n",
    "plt.plot(hoernli['trailforks_difficulty'])\n",
    "plt.plot(hoernli['trailforks_difficulty_user_avg'])\n",
    "plt.plot(hoernli['osm_mtb:scale'])\n",
    "plt.plot(hoernli['trailforks_physical_rating'])\n",
    "plt.plot(hoernli['trailforks_amtb-rating'])\n",
    "plt.legend(['TF Difficulty', 'TF Difficulty User', 'OSM Mtb Scale', 'trailforks_amtb-rating', 'trailforks_physical_rating'])"
   ]
  },
  {
   "cell_type": "code",
   "execution_count": null,
   "metadata": {},
   "outputs": [],
   "source": []
  }
 ],
 "metadata": {
  "kernelspec": {
   "display_name": "Python 3",
   "language": "python",
   "name": "python3"
  },
  "language_info": {
   "codemirror_mode": {
    "name": "ipython",
    "version": 3
   },
   "file_extension": ".py",
   "mimetype": "text/x-python",
   "name": "python",
   "nbconvert_exporter": "python",
   "pygments_lexer": "ipython3",
   "version": "3.8.5"
  }
 },
 "nbformat": 4,
 "nbformat_minor": 4
}
