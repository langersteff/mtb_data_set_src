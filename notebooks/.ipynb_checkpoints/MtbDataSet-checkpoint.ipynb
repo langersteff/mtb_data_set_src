{
 "cells": [
  {
   "cell_type": "code",
   "execution_count": 2,
   "metadata": {},
   "outputs": [
    {
     "name": "stdout",
     "output_type": "stream",
     "text": [
      "The autoreload extension is already loaded. To reload it, use:\n",
      "  %reload_ext autoreload\n"
     ]
    }
   ],
   "source": [
    "%load_ext autoreload\n",
    "%autoreload 2\n",
    "\n",
    "import sys\n",
    "sys.path.append('../src')\n",
    "\n",
    "from mtb_data_set import MtbDataSet"
   ]
  },
  {
   "cell_type": "code",
   "execution_count": 53,
   "metadata": {
    "scrolled": true
   },
   "outputs": [
    {
     "name": "stdout",
     "output_type": "stream",
     "text": [
      "Creating dataset delete_me_dataset.csv\n",
      "Converting Garmin .fit file ../data/dandlbergdeleteme_1_2.fit\n",
      "fetching from:  https://overpass-api.de/api/map?bbox=12.161104828119278,47.763745822012424,12.170942164957523,47.76794632896781\n",
      "fetching from:  https://www.trailforks.com/api/1/trails?scope=track&filter=bbox::47.76794632896781,12.161104828119278,47.763745822012424,12.170942164957523&app_secret=374340a0656feca4&app_id=45\n"
     ]
    },
    {
     "data": {
      "application/vnd.jupyter.widget-view+json": {
       "model_id": "54ebd3b93a194859991434380379d014",
       "version_major": 2,
       "version_minor": 0
      },
      "text/plain": [
       "HBox(children=(FloatProgress(value=0.0, max=8300.0), HTML(value='')))"
      ]
     },
     "metadata": {},
     "output_type": "display_data"
    },
    {
     "name": "stdout",
     "output_type": "stream",
     "text": [
      "\n",
      "Dataset successfully created: data/delete_me_dataset.csv\n"
     ]
    }
   ],
   "source": [
    "mtb_data_set = MtbDataSet()\n",
    "mtb_data_set.create_data_set(['dandlbergdeleteme_1_2'], 'delete_me_dataset.csv')"
   ]
  },
  {
   "cell_type": "code",
   "execution_count": null,
   "metadata": {},
   "outputs": [],
   "source": []
  }
 ],
 "metadata": {
  "kernelspec": {
   "display_name": "Python 3",
   "language": "python",
   "name": "python3"
  },
  "language_info": {
   "codemirror_mode": {
    "name": "ipython",
    "version": 3
   },
   "file_extension": ".py",
   "mimetype": "text/x-python",
   "name": "python",
   "nbconvert_exporter": "python",
   "pygments_lexer": "ipython3",
   "version": "3.8.5"
  }
 },
 "nbformat": 4,
 "nbformat_minor": 4
}
